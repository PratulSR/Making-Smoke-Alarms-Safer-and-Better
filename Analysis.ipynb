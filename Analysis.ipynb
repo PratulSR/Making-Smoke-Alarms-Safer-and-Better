{
  "nbformat": 4,
  "nbformat_minor": 0,
  "metadata": {
    "colab": {
      "provenance": [],
      "authorship_tag": "ABX9TyP6rLbMGYXOsiTDVqkugsm7"
    },
    "kernelspec": {
      "name": "python3",
      "display_name": "Python 3"
    },
    "language_info": {
      "name": "python"
    }
  },
  "cells": [
    {
      "cell_type": "markdown",
      "source": [
        "# **ENGG 2112 Project Code**"
      ],
      "metadata": {
        "id": "dQLsiYl8PynW"
      }
    },
    {
      "cell_type": "markdown",
      "source": [
        "## **Importing Libraries**"
      ],
      "metadata": {
        "id": "hoqhLWiVPu9v"
      }
    },
    {
      "cell_type": "code",
      "execution_count": null,
      "metadata": {
        "colab": {
          "base_uri": "https://localhost:8080/"
        },
        "id": "MvNrF7_VkaxP",
        "outputId": "5bb0d7ed-4391-45b4-a6f5-4b3e0eee4cf7"
      },
      "outputs": [
        {
          "output_type": "stream",
          "name": "stdout",
          "text": [
            "Mounted at /content/drive\n"
          ]
        }
      ],
      "source": [
        "# Importing the required libraries\n",
        "import numpy as np\n",
        "import pandas as pd\n",
        "import matplotlib.pyplot as plt\n",
        "\n",
        "from sklearn.utils import resample\n",
        "from google.colab import drive\n",
        "drive.mount(\"/content/drive\")"
      ]
    },
    {
      "cell_type": "markdown",
      "source": [
        "##**Data Cleaning**"
      ],
      "metadata": {
        "id": "Jl8B8xbOArFD"
      }
    },
    {
      "cell_type": "code",
      "source": [
        "# Importing the csv dataset into a pandas dataframe\n",
        "smoke = pd.read_csv(\"drive/My Drive/ENGG2112 Project/smoke_detection_iot.csv\")\n",
        "\n",
        "# Dropping the columns not required for our analysis\n",
        "smoke = smoke.drop(['Unnamed: 0','CNT','UTC'], axis=1) \n",
        "\n",
        "# Defining a function to find the minimum and maximum values for a given column\n",
        "def minMax(x):\n",
        "    return pd.Series(index=['min','max'],data=[x.min(),x.max()])\n",
        "\n",
        "# Printing the minimum and maximum values of each column in the dataframe\n",
        "smoke.apply(minMax)\n",
        "\n",
        "# Display datatypes\n",
        "smoke.dtypes\n",
        "\n",
        "# Counting NaN in the DataFrame\n",
        "smoke.isna().sum().sum()\n"
      ],
      "metadata": {
        "id": "eKYsdslxkx_W"
      },
      "execution_count": null,
      "outputs": []
    },
    {
      "cell_type": "markdown",
      "source": [
        "## **Feature Extraction**"
      ],
      "metadata": {
        "id": "2EMq9e-12ylo"
      }
    },
    {
      "cell_type": "code",
      "source": [
        "import time\n",
        "import numpy as np \n",
        "import pandas as pd \n",
        "import matplotlib.pyplot as plt\n",
        "from matplotlib.pyplot import figure\n",
        "import seaborn as sns\n",
        "from sklearn import preprocessing\n",
        "from sklearn.preprocessing import LabelEncoder\n",
        "from sklearn.preprocessing import StandardScaler\n",
        "from sklearn.model_selection import train_test_split\n",
        "from sklearn.metrics import classification_report,confusion_matrix\n",
        "from sklearn import tree\n",
        "from sklearn.ensemble import RandomForestClassifier\n",
        "from sklearn import svm\n",
        "\n",
        "smoke = pd.read_csv(\"drive/My Drive/ENGG2112 Project/smoke_detection_iot.csv\")\n",
        "X = smoke.drop(['Fire Alarm'], axis = 1)\n",
        "Y = smoke['Fire Alarm']\n",
        "X = pd.get_dummies(X, prefix_sep='_')\n",
        "Y = LabelEncoder().fit_transform(Y)\n",
        "\n",
        "X2 = StandardScaler().fit_transform(X)\n",
        "\n",
        "X_Train, X_Test, Y_Train, Y_Test = train_test_split(X2, Y, test_size = 0.30, \n",
        "                                                    random_state = 101)\n",
        "\n",
        "start = time.process_time()\n",
        "trainedforest = RandomForestClassifier(n_estimators=700).fit(X_Train,Y_Train)\n",
        "print(time.process_time() - start)\n",
        "predictionforest = trainedforest.predict(X_Test)\n",
        "print(confusion_matrix(Y_Test,predictionforest))\n",
        "print(classification_report(Y_Test,predictionforest))\n",
        "\n",
        "figure(num=None, figsize=(10, 11), dpi=80, facecolor='w', edgecolor='k')\n",
        "\n",
        "feat_importances = pd.Series(trainedforest.feature_importances_, index= X.columns)\n",
        "feat_importances.nlargest(7).plot(kind='barh')"
      ],
      "metadata": {
        "id": "jcCD4aIQQkWm"
      },
      "execution_count": null,
      "outputs": []
    },
    {
      "cell_type": "markdown",
      "source": [
        "A requirement for MultinomialNB is that all the features have positive values.\n",
        "\n",
        "During our data cleaning process, we find that only the 'Temperature[C]' has negative values, which is justifiable since the Celsius values go down till -273.\n",
        "\n",
        "To solve this problem, we convert all the celsius values to kelvin since kelvin values are always positive."
      ],
      "metadata": {
        "id": "dFd8K0E73-O_"
      }
    },
    {
      "cell_type": "code",
      "source": [
        "# Defining a function to convert a given Celsius value to its Kelvin equivalent\n",
        "def CelsiusToKelvin(t) : \n",
        "  return t+273\n",
        "\n",
        "# Converting all Celsius values in the temperature column to kelvin\n",
        "smoke['Temperature[C]'] = smoke['Temperature[C]'].apply(CelsiusToKelvin)\n",
        "\n",
        "# Renaming the above column\n",
        "smoke.rename(columns={'Temperature[C]': 'Temperature[K]'}, inplace=True)\n",
        "\n",
        "# Printing the lowest value in the temperature column to see if it is greater than zero\n",
        "smoke['Temperature[K]'].min()"
      ],
      "metadata": {
        "colab": {
          "base_uri": "https://localhost:8080/"
        },
        "id": "5qq2Aln6K9Xs",
        "outputId": "4044c262-6f00-4011-bb02-7193cfb2c026"
      },
      "execution_count": null,
      "outputs": [
        {
          "output_type": "execute_result",
          "data": {
            "text/plain": [
              "250.99"
            ]
          },
          "metadata": {},
          "execution_count": 3
        }
      ]
    },
    {
      "cell_type": "markdown",
      "source": [
        "##**Multinomial Naive-Bayes**"
      ],
      "metadata": {
        "id": "f0qw1fYlXcAC"
      }
    },
    {
      "cell_type": "code",
      "source": [
        "# Importing the required libraries to execute the Multinomial Naive Bayes model\n",
        "from sklearn.naive_bayes import MultinomialNB\n",
        "from sklearn.model_selection import train_test_split\n",
        "from sklearn.metrics import accuracy_score, roc_auc_score, precision_score, recall_score, mean_absolute_error, mean_squared_error\n",
        "\n",
        "# Defining lists that will contain different values from each iteration of the model\n",
        "mnb_acc_list, mnb_auc_list, mnb_pc, mnb_rc, mnb_score, mnb_mae, mnb_mse=[],[],[],[],[],[],[]\n",
        "\n",
        "# Creating the model 100 times to ensure uniformity in results\n",
        "for i in range(100):\n",
        "\n",
        "  # Split data into a trainiing and testing set\n",
        "  df_train, df_test = train_test_split(smoke, test_size=0.25) # Iterate for best performance\n",
        "\n",
        "  # Setting the \"Fire Alarm\" column series as target\n",
        "  y_train = df_train[\"Fire Alarm\"].to_numpy()\n",
        "  y_test = df_test[\"Fire Alarm\"].to_numpy()\n",
        "\n",
        "  # Setting differents columns series as Features\n",
        "  X_train = df_train.iloc[:,0:12].to_numpy()\n",
        "  X_test = df_test.iloc[:,0:12].to_numpy()\n",
        "\n",
        "  # Creating Multinomial NB model and fit to training data\n",
        "  mnb_model = MultinomialNB()\n",
        "  mnb_model.fit(X_train, y_train)\n",
        "\n",
        "  # Getting predicted outputs\n",
        "  mnb_pred = mnb_model.predict(X_test)\n",
        "  mnb_acc = accuracy_score(y_test, mnb_pred)\n",
        "  mnb_prob = mnb_model.predict_proba(X_test)\n",
        "\n",
        "  MultiNB = round(mnb_model.score(X_test, y_test), 2)\n",
        "  \n",
        "  # Getting the error scores for the model\n",
        "  mae_mnb = round(mean_absolute_error(y_test, mnb_pred), 4)\n",
        "  mse_mnb = round(mean_squared_error(y_test, mnb_pred), 4)\n",
        "\n",
        "  # Appending the values to their respective lists\n",
        "  mnb_acc_list.append(accuracy_score(y_test, mnb_pred))\n",
        "  mnb_auc_list.append(roc_auc_score(y_test, mnb_prob[:, 1]))\n",
        "  mnb_pc.append(precision_score(y_test, mnb_pred))\n",
        "  mnb_rc.append(recall_score(y_test, mnb_pred))\n",
        "  mnb_score.append(MultiNB)\n",
        "  mnb_mae.append(mae_mnb)\n",
        "  mnb_mse.append(mse_mnb)\n",
        "\n",
        "  # auc = roc_auc_score(y_test, model.predict_proba(X_test)[:, 1])\n",
        "\n",
        "# Creating a table with all the scores\n",
        "mnb_table = pd.DataFrame({'Accuracy' : mnb_acc_list,'AUC' : mnb_auc_list,'Mean Absolute Error' : mnb_mae})\n",
        "\n",
        "# Showing the complete Table sorted by accuracy\n",
        "mnb_table.sort_values(by=['Accuracy','AUC'], inplace=True, ascending=False)\n",
        "mnb_table.head()"
      ],
      "metadata": {
        "colab": {
          "base_uri": "https://localhost:8080/",
          "height": 206
        },
        "id": "39BWSU8L2S5p",
        "outputId": "9178a5a5-a1c0-4370-b022-9bd67b6b50df"
      },
      "execution_count": null,
      "outputs": [
        {
          "output_type": "execute_result",
          "data": {
            "text/plain": [
              "    Accuracy       AUC  Mean Absolute Error\n",
              "6   0.563117  0.556580               0.4369\n",
              "38  0.562402  0.558202               0.4376\n",
              "58  0.562134  0.559117               0.4379\n",
              "82  0.562089  0.559216               0.4379\n",
              "25  0.561509  0.558280               0.4385"
            ],
            "text/html": [
              "\n",
              "  <div id=\"df-3734e319-99e8-4199-8d9b-b717164f4b6a\">\n",
              "    <div class=\"colab-df-container\">\n",
              "      <div>\n",
              "<style scoped>\n",
              "    .dataframe tbody tr th:only-of-type {\n",
              "        vertical-align: middle;\n",
              "    }\n",
              "\n",
              "    .dataframe tbody tr th {\n",
              "        vertical-align: top;\n",
              "    }\n",
              "\n",
              "    .dataframe thead th {\n",
              "        text-align: right;\n",
              "    }\n",
              "</style>\n",
              "<table border=\"1\" class=\"dataframe\">\n",
              "  <thead>\n",
              "    <tr style=\"text-align: right;\">\n",
              "      <th></th>\n",
              "      <th>Accuracy</th>\n",
              "      <th>AUC</th>\n",
              "      <th>Mean Absolute Error</th>\n",
              "    </tr>\n",
              "  </thead>\n",
              "  <tbody>\n",
              "    <tr>\n",
              "      <th>6</th>\n",
              "      <td>0.563117</td>\n",
              "      <td>0.556580</td>\n",
              "      <td>0.4369</td>\n",
              "    </tr>\n",
              "    <tr>\n",
              "      <th>38</th>\n",
              "      <td>0.562402</td>\n",
              "      <td>0.558202</td>\n",
              "      <td>0.4376</td>\n",
              "    </tr>\n",
              "    <tr>\n",
              "      <th>58</th>\n",
              "      <td>0.562134</td>\n",
              "      <td>0.559117</td>\n",
              "      <td>0.4379</td>\n",
              "    </tr>\n",
              "    <tr>\n",
              "      <th>82</th>\n",
              "      <td>0.562089</td>\n",
              "      <td>0.559216</td>\n",
              "      <td>0.4379</td>\n",
              "    </tr>\n",
              "    <tr>\n",
              "      <th>25</th>\n",
              "      <td>0.561509</td>\n",
              "      <td>0.558280</td>\n",
              "      <td>0.4385</td>\n",
              "    </tr>\n",
              "  </tbody>\n",
              "</table>\n",
              "</div>\n",
              "      <button class=\"colab-df-convert\" onclick=\"convertToInteractive('df-3734e319-99e8-4199-8d9b-b717164f4b6a')\"\n",
              "              title=\"Convert this dataframe to an interactive table.\"\n",
              "              style=\"display:none;\">\n",
              "        \n",
              "  <svg xmlns=\"http://www.w3.org/2000/svg\" height=\"24px\"viewBox=\"0 0 24 24\"\n",
              "       width=\"24px\">\n",
              "    <path d=\"M0 0h24v24H0V0z\" fill=\"none\"/>\n",
              "    <path d=\"M18.56 5.44l.94 2.06.94-2.06 2.06-.94-2.06-.94-.94-2.06-.94 2.06-2.06.94zm-11 1L8.5 8.5l.94-2.06 2.06-.94-2.06-.94L8.5 2.5l-.94 2.06-2.06.94zm10 10l.94 2.06.94-2.06 2.06-.94-2.06-.94-.94-2.06-.94 2.06-2.06.94z\"/><path d=\"M17.41 7.96l-1.37-1.37c-.4-.4-.92-.59-1.43-.59-.52 0-1.04.2-1.43.59L10.3 9.45l-7.72 7.72c-.78.78-.78 2.05 0 2.83L4 21.41c.39.39.9.59 1.41.59.51 0 1.02-.2 1.41-.59l7.78-7.78 2.81-2.81c.8-.78.8-2.07 0-2.86zM5.41 20L4 18.59l7.72-7.72 1.47 1.35L5.41 20z\"/>\n",
              "  </svg>\n",
              "      </button>\n",
              "      \n",
              "  <style>\n",
              "    .colab-df-container {\n",
              "      display:flex;\n",
              "      flex-wrap:wrap;\n",
              "      gap: 12px;\n",
              "    }\n",
              "\n",
              "    .colab-df-convert {\n",
              "      background-color: #E8F0FE;\n",
              "      border: none;\n",
              "      border-radius: 50%;\n",
              "      cursor: pointer;\n",
              "      display: none;\n",
              "      fill: #1967D2;\n",
              "      height: 32px;\n",
              "      padding: 0 0 0 0;\n",
              "      width: 32px;\n",
              "    }\n",
              "\n",
              "    .colab-df-convert:hover {\n",
              "      background-color: #E2EBFA;\n",
              "      box-shadow: 0px 1px 2px rgba(60, 64, 67, 0.3), 0px 1px 3px 1px rgba(60, 64, 67, 0.15);\n",
              "      fill: #174EA6;\n",
              "    }\n",
              "\n",
              "    [theme=dark] .colab-df-convert {\n",
              "      background-color: #3B4455;\n",
              "      fill: #D2E3FC;\n",
              "    }\n",
              "\n",
              "    [theme=dark] .colab-df-convert:hover {\n",
              "      background-color: #434B5C;\n",
              "      box-shadow: 0px 1px 3px 1px rgba(0, 0, 0, 0.15);\n",
              "      filter: drop-shadow(0px 1px 2px rgba(0, 0, 0, 0.3));\n",
              "      fill: #FFFFFF;\n",
              "    }\n",
              "  </style>\n",
              "\n",
              "      <script>\n",
              "        const buttonEl =\n",
              "          document.querySelector('#df-3734e319-99e8-4199-8d9b-b717164f4b6a button.colab-df-convert');\n",
              "        buttonEl.style.display =\n",
              "          google.colab.kernel.accessAllowed ? 'block' : 'none';\n",
              "\n",
              "        async function convertToInteractive(key) {\n",
              "          const element = document.querySelector('#df-3734e319-99e8-4199-8d9b-b717164f4b6a');\n",
              "          const dataTable =\n",
              "            await google.colab.kernel.invokeFunction('convertToInteractive',\n",
              "                                                     [key], {});\n",
              "          if (!dataTable) return;\n",
              "\n",
              "          const docLinkHtml = 'Like what you see? Visit the ' +\n",
              "            '<a target=\"_blank\" href=https://colab.research.google.com/notebooks/data_table.ipynb>data table notebook</a>'\n",
              "            + ' to learn more about interactive tables.';\n",
              "          element.innerHTML = '';\n",
              "          dataTable['output_type'] = 'display_data';\n",
              "          await google.colab.output.renderOutput(dataTable, element);\n",
              "          const docLink = document.createElement('div');\n",
              "          docLink.innerHTML = docLinkHtml;\n",
              "          element.appendChild(docLink);\n",
              "        }\n",
              "      </script>\n",
              "    </div>\n",
              "  </div>\n",
              "  "
            ]
          },
          "metadata": {},
          "execution_count": 4
        }
      ]
    },
    {
      "cell_type": "markdown",
      "source": [
        "##**Report**"
      ],
      "metadata": {
        "id": "bcKKzGoPYPNq"
      }
    },
    {
      "cell_type": "code",
      "source": [
        "from sklearn.metrics import classification_report\n",
        "\n",
        "# Getting the classification report\n",
        "print(classification_report(y_test, mnb_pred))"
      ],
      "metadata": {
        "colab": {
          "base_uri": "https://localhost:8080/"
        },
        "id": "6uDctGSlX9Yq",
        "outputId": "5a8b8c3f-97e5-4e22-bb9e-735460cec97f"
      },
      "execution_count": null,
      "outputs": [
        {
          "output_type": "stream",
          "name": "stdout",
          "text": [
            "              precision    recall  f1-score   support\n",
            "\n",
            "           0       0.94      0.12      0.21     11155\n",
            "           1       0.53      0.99      0.69     11224\n",
            "\n",
            "    accuracy                           0.56     22379\n",
            "   macro avg       0.73      0.56      0.45     22379\n",
            "weighted avg       0.73      0.56      0.45     22379\n",
            "\n"
          ]
        }
      ]
    },
    {
      "cell_type": "markdown",
      "source": [
        "##**Confusion Matrix**"
      ],
      "metadata": {
        "id": "ZWN51IE1YTLv"
      }
    },
    {
      "cell_type": "code",
      "source": [
        "import matplotlib.pyplot as plt\n",
        "from sklearn import metrics\n",
        "\n",
        "# Calculating and displaying the confusion matrix representing the number of True/False Negatives/Positives\n",
        "cm = metrics.confusion_matrix(y_test, mnb_pred)\n",
        "cm_display = metrics.ConfusionMatrixDisplay(confusion_matrix = cm, display_labels = [False, True])\n",
        "cm_display.plot()\n",
        "plt.show()\n",
        "\n",
        "# Showing the percentages of each\n",
        "print(\"\\nTrue Negatives : {:0.2f}%\".format(cm[0][0]*100/sum(cm[0]+cm[1])))\n",
        "print(\"False Positives : {:0.2f}%\".format(cm[0][1]*100/sum(cm[0]+cm[1])))\n",
        "print(\"False Negatives : {:0.2f}%\".format(cm[1][0]*100/sum(cm[0]+cm[1])))\n",
        "print(\"True Positives : {:0.2f}%\".format(cm[1][1]*100/sum(cm[0]+cm[1])))"
      ],
      "metadata": {
        "colab": {
          "base_uri": "https://localhost:8080/",
          "height": 366
        },
        "id": "AX-iKmqCX_sx",
        "outputId": "13187c65-3fc2-4367-89e3-c9df44a3fd95"
      },
      "execution_count": null,
      "outputs": [
        {
          "output_type": "display_data",
          "data": {
            "text/plain": [
              "<Figure size 432x288 with 2 Axes>"
            ],
            "image/png": "[encoded data removed]"
          },
          "metadata": {
            "needs_background": "light"
          }
        },
        {
          "output_type": "stream",
          "name": "stdout",
          "text": [
            "\n",
            "True Negatives : 6.01%\n",
            "False Positives : 43.84%\n",
            "False Negatives : 0.41%\n",
            "True Positives : 49.75%\n"
          ]
        }
      ]
    },
    {
      "cell_type": "markdown",
      "source": [
        "##**ROC Curve**"
      ],
      "metadata": {
        "id": "taTZCfW6YaVo"
      }
    },
    {
      "cell_type": "code",
      "source": [
        "from sklearn.metrics import roc_curve\n",
        "\n",
        "# Plotting the ROC curve\n",
        "fpr, tpr, thresholds = roc_curve(y_test, model.predict_proba(X_test)[:,1])\n",
        "\n",
        "plt.plot(fpr, tpr, label=\"AUC=\"+str(roc_auc_score(y_test, mnb_prob[:, 1])))\n",
        "plt.plot([0, 1], [0, 1],'r--')\n",
        "\n",
        "plt.xlim([0.0, 1.0])\n",
        "plt.ylim([0.0, 1.05])\n",
        "\n",
        "plt.xlabel('False Positive Rate')\n",
        "plt.ylabel('True Positive Rate')\n",
        "plt.title('Receiver operating characteristic')\n",
        "plt.legend(loc=4)\n",
        "\n",
        "plt.show()"
      ],
      "metadata": {
        "colab": {
          "base_uri": "https://localhost:8080/",
          "height": 295
        },
        "id": "fpt0M5o4YJ_e",
        "outputId": "95a7f799-21de-422b-8537-f48a369b111f"
      },
      "execution_count": null,
      "outputs": [
        {
          "output_type": "display_data",
          "data": {
            "text/plain": [
              "<Figure size 432x288 with 1 Axes>"
            ],
            "image/png": "[encoded data removed]"
          },
          "metadata": {
            "needs_background": "light"
          }
        }
      ]
    },
    {
      "cell_type": "markdown",
      "source": [
        "# **K-Nearest Neighbours**"
      ],
      "metadata": {
        "id": "qTpg-zGM31XV"
      }
    },
    {
      "cell_type": "code",
      "source": [
        "from sklearn.neighbors import KNeighborsClassifier\n",
        "from sklearn.model_selection import train_test_split\n",
        "from sklearn.metrics import accuracy_score, roc_auc_score, precision_score, recall_score, mean_absolute_error\n",
        "\n",
        "weighted_acc_list, weighted_auc_list, weighted_mae_list, unweighted_acc_list, unweighted_auc_list, unweighted_mae_list = [],[],[],[],[],[]\n",
        "\n",
        "for i in range(1,11) :\n",
        "\n",
        "    # Training the Weighted KNN Classifier\n",
        "    weighted_neigh = KNeighborsClassifier(n_neighbors=i**2, weights='distance')\n",
        "    unweighted_neigh = KNeighborsClassifier(n_neighbors=i**2)\n",
        "\n",
        "    # Splitting the dataset into training and testing sets\n",
        "    df_train, df_test = train_test_split(smoke_process, test_size=0.25)\n",
        "\n",
        "    # Separate training data into inputs and true output\n",
        "    X_train = df_train.iloc[:,0:12].to_numpy()\n",
        "    y_train = df_train[\"Fire Alarm\"].to_numpy()\n",
        "\n",
        "    # Separate test data into inputs and true output\n",
        "    X_test = df_test.iloc[:,0:12].to_numpy()\n",
        "    y_test = df_test[\"Fire Alarm\"].to_numpy()\n",
        "\n",
        "    # Training & Fitting the Weighted KNN Classifier\n",
        "    weighted_neigh = KNeighborsClassifier(n_neighbors=i**2, weights='distance')\n",
        "    weighted_neigh.fit(X_train, y_train)\n",
        "    weighted_y_pred = weighted_neigh.fit(X_train, y_train).predict(X_test) \n",
        "    weighted_acc = accuracy_score(y_test, weighted_y_pred)\n",
        "    weighted_auc = roc_auc_score(y_test, weighted_y_pred)\n",
        "\n",
        "    # Training & Fitting the Unweighted KNN Classifier\n",
        "    unweighted_neigh = KNeighborsClassifier(n_neighbors=i**2)\n",
        "    unweighted_neigh.fit(X_train, y_train)\n",
        "    unweighted_y_pred = unweighted_neigh.fit(X_train, y_train).predict(X_test)\n",
        "    unweighted_acc = accuracy_score(y_test, unweighted_y_pred)\n",
        "    unweighted_auc = roc_auc_score(y_test, unweighted_y_pred)\n",
        "\n",
        "    # Predicting the label of the testing data\n",
        "    weighted_y_pred = weighted_neigh.fit(X_train, y_train).predict(X_test) \n",
        "    unweighted_y_pred = unweighted_neigh.fit(X_train, y_train).predict(X_test)\n",
        "    \n",
        "    # Generating the scores\n",
        "    weighted_acc = accuracy_score(y_test, weighted_y_pred)\n",
        "    weighted_auc = roc_auc_score(y_test, weighted_y_pred)\n",
        "    weighted_mae = round(mean_absolute_error(y_test, weighted_y_pred), 4)\n",
        "\n",
        "    unweighted_acc = accuracy_score(y_test, unweighted_y_pred)\n",
        "    unweighted_auc = roc_auc_score(y_test, unweighted_y_pred)\n",
        "    unweighted_mae = round(mean_absolute_error(y_test, unweighted_y_pred), 4)\n",
        "\n",
        "    # print(weighted_acc, weighted_auc,unweighted_acc,unweighted_auc)\n",
        "    weighted_acc_list.append(weighted_acc)\n",
        "    weighted_auc_list.append(weighted_auc)\n",
        "    weighted_mae_list.append(weighted_mae)\n",
        "\n",
        "    unweighted_acc_list.append(unweighted_acc)\n",
        "    unweighted_auc_list.append(unweighted_auc)\n",
        "    unweighted_mae_list.append(unweighted_mae)\n",
        "\n",
        "# Creating a table with all the scores\n",
        "weighted_table = pd.DataFrame({'Accuracy' : unweighted_acc_list,'AUC' : unweighted_auc_list,'Mean Absolute Error' : unweighted_mae_list})\n",
        "\n",
        "# Showing the complete Table sorted by accuracy\n",
        "weighted_table.sort_values(by=['Accuracy','AUC'], inplace=True, ascending=False)\n",
        "weighted_table.head()"
      ],
      "metadata": {
        "colab": {
          "base_uri": "https://localhost:8080/",
          "height": 206
        },
        "id": "rK0cXvOROCEo",
        "outputId": "a79a5bb6-83bb-4697-8784-0ea5adc45279"
      },
      "execution_count": null,
      "outputs": [
        {
          "output_type": "execute_result",
          "data": {
            "text/plain": [
              "   Accuracy       AUC  Mean Absolute Error\n",
              "0  0.999745  0.999754               0.0003\n",
              "1  0.999681  0.999514               0.0003\n",
              "2  0.999553  0.999278               0.0004\n",
              "3  0.999489  0.999237               0.0005\n",
              "6  0.999425  0.999122               0.0006"
            ],
            "text/html": [
              "\n",
              "  <div id=\"df-23e5a920-9a4a-4257-80d5-32c6af12510b\">\n",
              "    <div class=\"colab-df-container\">\n",
              "      <div>\n",
              "<style scoped>\n",
              "    .dataframe tbody tr th:only-of-type {\n",
              "        vertical-align: middle;\n",
              "    }\n",
              "\n",
              "    .dataframe tbody tr th {\n",
              "        vertical-align: top;\n",
              "    }\n",
              "\n",
              "    .dataframe thead th {\n",
              "        text-align: right;\n",
              "    }\n",
              "</style>\n",
              "<table border=\"1\" class=\"dataframe\">\n",
              "  <thead>\n",
              "    <tr style=\"text-align: right;\">\n",
              "      <th></th>\n",
              "      <th>Accuracy</th>\n",
              "      <th>AUC</th>\n",
              "      <th>Mean Absolute Error</th>\n",
              "    </tr>\n",
              "  </thead>\n",
              "  <tbody>\n",
              "    <tr>\n",
              "      <th>0</th>\n",
              "      <td>0.999745</td>\n",
              "      <td>0.999754</td>\n",
              "      <td>0.0003</td>\n",
              "    </tr>\n",
              "    <tr>\n",
              "      <th>1</th>\n",
              "      <td>0.999681</td>\n",
              "      <td>0.999514</td>\n",
              "      <td>0.0003</td>\n",
              "    </tr>\n",
              "    <tr>\n",
              "      <th>2</th>\n",
              "      <td>0.999553</td>\n",
              "      <td>0.999278</td>\n",
              "      <td>0.0004</td>\n",
              "    </tr>\n",
              "    <tr>\n",
              "      <th>3</th>\n",
              "      <td>0.999489</td>\n",
              "      <td>0.999237</td>\n",
              "      <td>0.0005</td>\n",
              "    </tr>\n",
              "    <tr>\n",
              "      <th>6</th>\n",
              "      <td>0.999425</td>\n",
              "      <td>0.999122</td>\n",
              "      <td>0.0006</td>\n",
              "    </tr>\n",
              "  </tbody>\n",
              "</table>\n",
              "</div>\n",
              "      <button class=\"colab-df-convert\" onclick=\"convertToInteractive('df-23e5a920-9a4a-4257-80d5-32c6af12510b')\"\n",
              "              title=\"Convert this dataframe to an interactive table.\"\n",
              "              style=\"display:none;\">\n",
              "        \n",
              "  <svg xmlns=\"http://www.w3.org/2000/svg\" height=\"24px\"viewBox=\"0 0 24 24\"\n",
              "       width=\"24px\">\n",
              "    <path d=\"M0 0h24v24H0V0z\" fill=\"none\"/>\n",
              "    <path d=\"M18.56 5.44l.94 2.06.94-2.06 2.06-.94-2.06-.94-.94-2.06-.94 2.06-2.06.94zm-11 1L8.5 8.5l.94-2.06 2.06-.94-2.06-.94L8.5 2.5l-.94 2.06-2.06.94zm10 10l.94 2.06.94-2.06 2.06-.94-2.06-.94-.94-2.06-.94 2.06-2.06.94z\"/><path d=\"M17.41 7.96l-1.37-1.37c-.4-.4-.92-.59-1.43-.59-.52 0-1.04.2-1.43.59L10.3 9.45l-7.72 7.72c-.78.78-.78 2.05 0 2.83L4 21.41c.39.39.9.59 1.41.59.51 0 1.02-.2 1.41-.59l7.78-7.78 2.81-2.81c.8-.78.8-2.07 0-2.86zM5.41 20L4 18.59l7.72-7.72 1.47 1.35L5.41 20z\"/>\n",
              "  </svg>\n",
              "      </button>\n",
              "      \n",
              "  <style>\n",
              "    .colab-df-container {\n",
              "      display:flex;\n",
              "      flex-wrap:wrap;\n",
              "      gap: 12px;\n",
              "    }\n",
              "\n",
              "    .colab-df-convert {\n",
              "      background-color: #E8F0FE;\n",
              "      border: none;\n",
              "      border-radius: 50%;\n",
              "      cursor: pointer;\n",
              "      display: none;\n",
              "      fill: #1967D2;\n",
              "      height: 32px;\n",
              "      padding: 0 0 0 0;\n",
              "      width: 32px;\n",
              "    }\n",
              "\n",
              "    .colab-df-convert:hover {\n",
              "      background-color: #E2EBFA;\n",
              "      box-shadow: 0px 1px 2px rgba(60, 64, 67, 0.3), 0px 1px 3px 1px rgba(60, 64, 67, 0.15);\n",
              "      fill: #174EA6;\n",
              "    }\n",
              "\n",
              "    [theme=dark] .colab-df-convert {\n",
              "      background-color: #3B4455;\n",
              "      fill: #D2E3FC;\n",
              "    }\n",
              "\n",
              "    [theme=dark] .colab-df-convert:hover {\n",
              "      background-color: #434B5C;\n",
              "      box-shadow: 0px 1px 3px 1px rgba(0, 0, 0, 0.15);\n",
              "      filter: drop-shadow(0px 1px 2px rgba(0, 0, 0, 0.3));\n",
              "      fill: #FFFFFF;\n",
              "    }\n",
              "  </style>\n",
              "\n",
              "      <script>\n",
              "        const buttonEl =\n",
              "          document.querySelector('#df-23e5a920-9a4a-4257-80d5-32c6af12510b button.colab-df-convert');\n",
              "        buttonEl.style.display =\n",
              "          google.colab.kernel.accessAllowed ? 'block' : 'none';\n",
              "\n",
              "        async function convertToInteractive(key) {\n",
              "          const element = document.querySelector('#df-23e5a920-9a4a-4257-80d5-32c6af12510b');\n",
              "          const dataTable =\n",
              "            await google.colab.kernel.invokeFunction('convertToInteractive',\n",
              "                                                     [key], {});\n",
              "          if (!dataTable) return;\n",
              "\n",
              "          const docLinkHtml = 'Like what you see? Visit the ' +\n",
              "            '<a target=\"_blank\" href=https://colab.research.google.com/notebooks/data_table.ipynb>data table notebook</a>'\n",
              "            + ' to learn more about interactive tables.';\n",
              "          element.innerHTML = '';\n",
              "          dataTable['output_type'] = 'display_data';\n",
              "          await google.colab.output.renderOutput(dataTable, element);\n",
              "          const docLink = document.createElement('div');\n",
              "          docLink.innerHTML = docLinkHtml;\n",
              "          element.appendChild(docLink);\n",
              "        }\n",
              "      </script>\n",
              "    </div>\n",
              "  </div>\n",
              "  "
            ]
          },
          "metadata": {},
          "execution_count": 6
        }
      ]
    },
    {
      "cell_type": "code",
      "source": [
        "import matplotlib.pyplot as plt\n",
        "from sklearn import metrics\n",
        "\n",
        "cm = metrics.confusion_matrix(y_test, weighted_y_pred)\n",
        "cm_display = metrics.ConfusionMatrixDisplay(confusion_matrix = cm, display_labels = [False, True])\n",
        "cm_display.plot()\n",
        "\n",
        "# Showing the percentages of each\n",
        "print(\"\\nTrue Negatives : {:0.2f}%\".format(cm[0][0]*100/sum(cm[0]+cm[1])))\n",
        "print(\"False Positives : {:0.2f}%\".format(cm[0][1]*100/sum(cm[0]+cm[1])))\n",
        "print(\"False Negatives : {:0.2f}%\".format(cm[1][0]*100/sum(cm[0]+cm[1])))\n",
        "print(\"True Positives : {:0.2f}%\".format(cm[1][1]*100/sum(cm[0]+cm[1])))\n",
        "\n",
        "cm = metrics.confusion_matrix(y_test, unweighted_y_pred)\n",
        "cm_display = metrics.ConfusionMatrixDisplay(confusion_matrix = cm, display_labels = [False, True])\n",
        "cm_display.plot()\n",
        "plt.show()\n",
        "\n",
        "# Showing the percentages of each\n",
        "print(\"\\nTrue Negatives : {:0.2f}%\".format(cm[0][0]*100/sum(cm[0]+cm[1])))\n",
        "print(\"False Positives : {:0.2f}%\".format(cm[0][1]*100/sum(cm[0]+cm[1])))\n",
        "print(\"False Negatives : {:0.2f}%\".format(cm[1][0]*100/sum(cm[0]+cm[1])))\n",
        "print(\"True Positives : {:0.2f}%\".format(cm[1][1]*100/sum(cm[0]+cm[1])))"
      ],
      "metadata": {
        "colab": {
          "base_uri": "https://localhost:8080/",
          "height": 715
        },
        "id": "udDe8AlNPQxU",
        "outputId": "7f526db1-689d-4354-f123-776304d1ff52"
      },
      "execution_count": null,
      "outputs": [
        {
          "output_type": "stream",
          "name": "stdout",
          "text": [
            "\n",
            "True Negatives : 28.63%\n",
            "False Positives : 0.06%\n",
            "False Negatives : 0.04%\n",
            "True Positives : 71.27%\n"
          ]
        },
        {
          "output_type": "display_data",
          "data": {
            "text/plain": [
              "<Figure size 432x288 with 2 Axes>"
            ],
            "image/png": "[encoded data removed]"
          },
          "metadata": {
            "needs_background": "light"
          }
        },
        {
          "output_type": "display_data",
          "data": {
            "text/plain": [
              "<Figure size 432x288 with 2 Axes>"
            ],
            "image/png": "[encoded data removed]"
          },
          "metadata": {
            "needs_background": "light"
          }
        },
        {
          "output_type": "stream",
          "name": "stdout",
          "text": [
            "\n",
            "True Negatives : 28.63%\n",
            "False Positives : 0.06%\n",
            "False Negatives : 0.11%\n",
            "True Positives : 71.20%\n"
          ]
        }
      ]
    },
    {
      "cell_type": "code",
      "source": [
        "from sklearn.metrics import roc_curve\n",
        "\n",
        "y_pred = weighted_neigh.predict(X_test)\n",
        "y_prob = weighted_neigh.predict_proba(X_test)\n",
        "fpr, tpr, thresholds = roc_curve(y_test, y_prob[:,1])\n",
        "\n",
        "plt.plot(fpr, tpr, label=\"AUC=\"+str(roc_auc_score(y_test, y_prob[:, 1])))\n",
        "plt.plot([0, 1], [0, 1],'r--')\n",
        "\n",
        "plt.xlim([0.0, 1.0])\n",
        "plt.ylim([0.0, 1.05])\n",
        "\n",
        "plt.xlabel('False Positive Rate')\n",
        "plt.ylabel('True Positive Rate')\n",
        "plt.title('Receiver operating characteristic')\n",
        "plt.legend(loc=4)\n",
        "\n",
        "plt.show()"
      ],
      "metadata": {
        "colab": {
          "base_uri": "https://localhost:8080/",
          "height": 295
        },
        "id": "tRm57HIGTPf_",
        "outputId": "d0a58551-92a7-4970-f80f-3998df92627b"
      },
      "execution_count": null,
      "outputs": [
        {
          "output_type": "display_data",
          "data": {
            "text/plain": [
              "<Figure size 432x288 with 1 Axes>"
            ],
            "image/png": "[encoded data removed]"
          },
          "metadata": {
            "needs_background": "light"
          }
        }
      ]
    },
    {
      "cell_type": "code",
      "source": [
        "from sklearn.metrics import classification_report\n",
        "\n",
        "# Get report\n",
        "print(classification_report(y_test, y_pred))"
      ],
      "metadata": {
        "id": "FLZ6BL2GU2Of",
        "outputId": "7e8e1814-0543-46ec-eab6-1459c3d34bc7",
        "colab": {
          "base_uri": "https://localhost:8080/"
        }
      },
      "execution_count": null,
      "outputs": [
        {
          "output_type": "stream",
          "name": "stdout",
          "text": [
            "              precision    recall  f1-score   support\n",
            "\n",
            "           0       1.00      1.00      1.00      4518\n",
            "           1       1.00      1.00      1.00     11140\n",
            "\n",
            "    accuracy                           1.00     15658\n",
            "   macro avg       1.00      1.00      1.00     15658\n",
            "weighted avg       1.00      1.00      1.00     15658\n",
            "\n"
          ]
        }
      ]
    },
    {
      "cell_type": "code",
      "source": [
        "# AUC and accuracies of KNN and WNN using different values of K\n",
        "# Make sure to get a table of all AUC and accuracies\n",
        "\n",
        "from sklearn.neighbors import KNeighborsClassifier\n",
        "from sklearn.model_selection import train_test_split\n",
        "from sklearn.metrics import accuracy_score, roc_auc_score, precision_score, recall_score, mean_absolute_error, mean_squared_error\n",
        "\n",
        "x = smoke.drop(columns='Fire Alarm')\n",
        "y = np.array(smoke['Fire Alarm'])\n",
        "\n",
        "Xmods = pd.get_dummies(x)\n",
        "Xmods\n",
        "\n",
        "uwaccuracies = []; uwaucs = []; waccuracis = []; waucs = [];\n",
        "err=[]\n",
        "for k in range(1,11):\n",
        "  X_train, X_test, y_train, y_test = train_test_split(Xmods, y, test_size=0.25, stratify=y)\n",
        "  uwknnclf = KNeighborsClassifier(n_neighbors=k,weights='uniform')\n",
        "  uwknnclf.fit(X_train,y_train)\n",
        "  ypreds = uwknnclf.predict(X_test)\n",
        "  # uwaccuracies.append(accuracy_score(y_test,y_predict))\n",
        "  uwaccuracies.append(sum(y_test==ypreds)/len(y_test))\n",
        "  uwaucs.append(roc_auc_score(y_test ,uwknnclf.predict_proba(X_test)[:,1]))\n",
        "  wknnclf = KNeighborsClassifier(n_neighbors=k,weights='distance')\n",
        "  wknnclf.fit(X_train,y_train)\n",
        "  ypreds = wknnclf.predict(X_test)\n",
        "  waccuracis.append(sum(y_test==ypreds)/len(y_test))\n",
        "  waucs.append(roc_auc_score(y_test ,wknnclf.predict_proba(X_test)[:,1]))\n",
        "\n",
        "  # Getting the error scores for the model\n",
        "  mae_mnb = round(mean_absolute_error(y_test, ypreds), 4)\n",
        "  err.append(mae_mnb)\n",
        "pd.DataFrame({'k':list(range(1,11)),'Accuracy (KNN)':uwaccuracies,'AUC (KNN)':uwaucs,'Accuracy (WNN)':waccuracis,'AUC (WNN)':waucs,'Mean Absolute Error':err})"
      ],
      "metadata": {
        "colab": {
          "base_uri": "https://localhost:8080/",
          "height": 363
        },
        "id": "3S1YhefitAUK",
        "outputId": "6a896a1d-9941-4b0b-a419-e4b6be17c0fb"
      },
      "execution_count": null,
      "outputs": [
        {
          "output_type": "execute_result",
          "data": {
            "text/plain": [
              "    k  Accuracy (KNN)  AUC (KNN)  Accuracy (WNN)  AUC (WNN)  \\\n",
              "0   1        1.000000   1.000000        1.000000   1.000000   \n",
              "1   2        0.999745   0.999821        0.999745   0.999821   \n",
              "2   3        0.999745   1.000000        0.999872   1.000000   \n",
              "3   4        0.999872   1.000000        0.999808   1.000000   \n",
              "4   5        0.999745   0.999888        0.999745   0.999888   \n",
              "5   6        1.000000   1.000000        1.000000   1.000000   \n",
              "6   7        0.999681   0.999910        0.999681   0.999910   \n",
              "7   8        0.999745   0.999776        0.999745   0.999776   \n",
              "8   9        0.999745   0.999776        0.999745   0.999776   \n",
              "9  10        0.999681   0.999888        0.999745   0.999888   \n",
              "\n",
              "   Mean Absolute Error  \n",
              "0               0.0000  \n",
              "1               0.0003  \n",
              "2               0.0001  \n",
              "3               0.0002  \n",
              "4               0.0003  \n",
              "5               0.0000  \n",
              "6               0.0003  \n",
              "7               0.0003  \n",
              "8               0.0003  \n",
              "9               0.0003  "
            ],
            "text/html": [
              "\n",
              "  <div id=\"df-3f440445-f735-451c-865c-590a359fc25f\">\n",
              "    <div class=\"colab-df-container\">\n",
              "      <div>\n",
              "<style scoped>\n",
              "    .dataframe tbody tr th:only-of-type {\n",
              "        vertical-align: middle;\n",
              "    }\n",
              "\n",
              "    .dataframe tbody tr th {\n",
              "        vertical-align: top;\n",
              "    }\n",
              "\n",
              "    .dataframe thead th {\n",
              "        text-align: right;\n",
              "    }\n",
              "</style>\n",
              "<table border=\"1\" class=\"dataframe\">\n",
              "  <thead>\n",
              "    <tr style=\"text-align: right;\">\n",
              "      <th></th>\n",
              "      <th>k</th>\n",
              "      <th>Accuracy (KNN)</th>\n",
              "      <th>AUC (KNN)</th>\n",
              "      <th>Accuracy (WNN)</th>\n",
              "      <th>AUC (WNN)</th>\n",
              "      <th>Mean Absolute Error</th>\n",
              "    </tr>\n",
              "  </thead>\n",
              "  <tbody>\n",
              "    <tr>\n",
              "      <th>0</th>\n",
              "      <td>1</td>\n",
              "      <td>1.000000</td>\n",
              "      <td>1.000000</td>\n",
              "      <td>1.000000</td>\n",
              "      <td>1.000000</td>\n",
              "      <td>0.0000</td>\n",
              "    </tr>\n",
              "    <tr>\n",
              "      <th>1</th>\n",
              "      <td>2</td>\n",
              "      <td>0.999745</td>\n",
              "      <td>0.999821</td>\n",
              "      <td>0.999745</td>\n",
              "      <td>0.999821</td>\n",
              "      <td>0.0003</td>\n",
              "    </tr>\n",
              "    <tr>\n",
              "      <th>2</th>\n",
              "      <td>3</td>\n",
              "      <td>0.999745</td>\n",
              "      <td>1.000000</td>\n",
              "      <td>0.999872</td>\n",
              "      <td>1.000000</td>\n",
              "      <td>0.0001</td>\n",
              "    </tr>\n",
              "    <tr>\n",
              "      <th>3</th>\n",
              "      <td>4</td>\n",
              "      <td>0.999872</td>\n",
              "      <td>1.000000</td>\n",
              "      <td>0.999808</td>\n",
              "      <td>1.000000</td>\n",
              "      <td>0.0002</td>\n",
              "    </tr>\n",
              "    <tr>\n",
              "      <th>4</th>\n",
              "      <td>5</td>\n",
              "      <td>0.999745</td>\n",
              "      <td>0.999888</td>\n",
              "      <td>0.999745</td>\n",
              "      <td>0.999888</td>\n",
              "      <td>0.0003</td>\n",
              "    </tr>\n",
              "    <tr>\n",
              "      <th>5</th>\n",
              "      <td>6</td>\n",
              "      <td>1.000000</td>\n",
              "      <td>1.000000</td>\n",
              "      <td>1.000000</td>\n",
              "      <td>1.000000</td>\n",
              "      <td>0.0000</td>\n",
              "    </tr>\n",
              "    <tr>\n",
              "      <th>6</th>\n",
              "      <td>7</td>\n",
              "      <td>0.999681</td>\n",
              "      <td>0.999910</td>\n",
              "      <td>0.999681</td>\n",
              "      <td>0.999910</td>\n",
              "      <td>0.0003</td>\n",
              "    </tr>\n",
              "    <tr>\n",
              "      <th>7</th>\n",
              "      <td>8</td>\n",
              "      <td>0.999745</td>\n",
              "      <td>0.999776</td>\n",
              "      <td>0.999745</td>\n",
              "      <td>0.999776</td>\n",
              "      <td>0.0003</td>\n",
              "    </tr>\n",
              "    <tr>\n",
              "      <th>8</th>\n",
              "      <td>9</td>\n",
              "      <td>0.999745</td>\n",
              "      <td>0.999776</td>\n",
              "      <td>0.999745</td>\n",
              "      <td>0.999776</td>\n",
              "      <td>0.0003</td>\n",
              "    </tr>\n",
              "    <tr>\n",
              "      <th>9</th>\n",
              "      <td>10</td>\n",
              "      <td>0.999681</td>\n",
              "      <td>0.999888</td>\n",
              "      <td>0.999745</td>\n",
              "      <td>0.999888</td>\n",
              "      <td>0.0003</td>\n",
              "    </tr>\n",
              "  </tbody>\n",
              "</table>\n",
              "</div>\n",
              "      <button class=\"colab-df-convert\" onclick=\"convertToInteractive('df-3f440445-f735-451c-865c-590a359fc25f')\"\n",
              "              title=\"Convert this dataframe to an interactive table.\"\n",
              "              style=\"display:none;\">\n",
              "        \n",
              "  <svg xmlns=\"http://www.w3.org/2000/svg\" height=\"24px\"viewBox=\"0 0 24 24\"\n",
              "       width=\"24px\">\n",
              "    <path d=\"M0 0h24v24H0V0z\" fill=\"none\"/>\n",
              "    <path d=\"M18.56 5.44l.94 2.06.94-2.06 2.06-.94-2.06-.94-.94-2.06-.94 2.06-2.06.94zm-11 1L8.5 8.5l.94-2.06 2.06-.94-2.06-.94L8.5 2.5l-.94 2.06-2.06.94zm10 10l.94 2.06.94-2.06 2.06-.94-2.06-.94-.94-2.06-.94 2.06-2.06.94z\"/><path d=\"M17.41 7.96l-1.37-1.37c-.4-.4-.92-.59-1.43-.59-.52 0-1.04.2-1.43.59L10.3 9.45l-7.72 7.72c-.78.78-.78 2.05 0 2.83L4 21.41c.39.39.9.59 1.41.59.51 0 1.02-.2 1.41-.59l7.78-7.78 2.81-2.81c.8-.78.8-2.07 0-2.86zM5.41 20L4 18.59l7.72-7.72 1.47 1.35L5.41 20z\"/>\n",
              "  </svg>\n",
              "      </button>\n",
              "      \n",
              "  <style>\n",
              "    .colab-df-container {\n",
              "      display:flex;\n",
              "      flex-wrap:wrap;\n",
              "      gap: 12px;\n",
              "    }\n",
              "\n",
              "    .colab-df-convert {\n",
              "      background-color: #E8F0FE;\n",
              "      border: none;\n",
              "      border-radius: 50%;\n",
              "      cursor: pointer;\n",
              "      display: none;\n",
              "      fill: #1967D2;\n",
              "      height: 32px;\n",
              "      padding: 0 0 0 0;\n",
              "      width: 32px;\n",
              "    }\n",
              "\n",
              "    .colab-df-convert:hover {\n",
              "      background-color: #E2EBFA;\n",
              "      box-shadow: 0px 1px 2px rgba(60, 64, 67, 0.3), 0px 1px 3px 1px rgba(60, 64, 67, 0.15);\n",
              "      fill: #174EA6;\n",
              "    }\n",
              "\n",
              "    [theme=dark] .colab-df-convert {\n",
              "      background-color: #3B4455;\n",
              "      fill: #D2E3FC;\n",
              "    }\n",
              "\n",
              "    [theme=dark] .colab-df-convert:hover {\n",
              "      background-color: #434B5C;\n",
              "      box-shadow: 0px 1px 3px 1px rgba(0, 0, 0, 0.15);\n",
              "      filter: drop-shadow(0px 1px 2px rgba(0, 0, 0, 0.3));\n",
              "      fill: #FFFFFF;\n",
              "    }\n",
              "  </style>\n",
              "\n",
              "      <script>\n",
              "        const buttonEl =\n",
              "          document.querySelector('#df-3f440445-f735-451c-865c-590a359fc25f button.colab-df-convert');\n",
              "        buttonEl.style.display =\n",
              "          google.colab.kernel.accessAllowed ? 'block' : 'none';\n",
              "\n",
              "        async function convertToInteractive(key) {\n",
              "          const element = document.querySelector('#df-3f440445-f735-451c-865c-590a359fc25f');\n",
              "          const dataTable =\n",
              "            await google.colab.kernel.invokeFunction('convertToInteractive',\n",
              "                                                     [key], {});\n",
              "          if (!dataTable) return;\n",
              "\n",
              "          const docLinkHtml = 'Like what you see? Visit the ' +\n",
              "            '<a target=\"_blank\" href=https://colab.research.google.com/notebooks/data_table.ipynb>data table notebook</a>'\n",
              "            + ' to learn more about interactive tables.';\n",
              "          element.innerHTML = '';\n",
              "          dataTable['output_type'] = 'display_data';\n",
              "          await google.colab.output.renderOutput(dataTable, element);\n",
              "          const docLink = document.createElement('div');\n",
              "          docLink.innerHTML = docLinkHtml;\n",
              "          element.appendChild(docLink);\n",
              "        }\n",
              "      </script>\n",
              "    </div>\n",
              "  </div>\n",
              "  "
            ]
          },
          "metadata": {},
          "execution_count": 8
        }
      ]
    },
    {
      "cell_type": "markdown",
      "source": [
        "##**Logistic Regression**"
      ],
      "metadata": {
        "id": "TGutaqVsIcMY"
      }
    },
    {
      "cell_type": "code",
      "source": [
        "import matplotlib.pyplot as plt\n",
        "from sklearn.model_selection import train_test_split\n",
        "from sklearn.linear_model import LogisticRegression\n",
        "from sklearn.metrics import accuracy_score, roc_auc_score, precision_score, recall_score,mean_absolute_error, mean_squared_error\n",
        "\n",
        "lr_acc = []\n",
        "lr_auc = []\n",
        "lr_pc = []\n",
        "lr_rc = []\n",
        "lr_score = []\n",
        "lr_mae = []\n",
        "lr_mse = [] \n",
        "\n",
        "# Calculating 20 random train-test split for logistic regression\n",
        "for i in range(100):\n",
        "\n",
        "  # Split data into a trainiing and testing set where test size is 30 %\n",
        "  df_train, df_test = train_test_split(smoke_process, test_size=0.3)\n",
        "\n",
        "  # Setting the \"Fire Alarm\" column series as target\n",
        "  y_train = df_train[\"Fire Alarm\"].to_numpy()\n",
        "  y_test = df_test[\"Fire Alarm\"].to_numpy()\n",
        "\n",
        "  # Setting differents columns series as Features\n",
        "  X_train = df_train.iloc[:,0:12].to_numpy()\n",
        "  X_test = df_test.iloc[:,0:12].to_numpy()\n",
        "\n",
        "  # Create Logistic Regression model and fit to training data\n",
        "  lr_model = LogisticRegression(max_iter = 10000).fit(X_train, y_train)\n",
        "  \n",
        "  # Predict y_preb and y_prob using the fitted model above\n",
        "  y_pred = lr_model.predict(X_test)\n",
        "  y_prob = lr_model.predict_proba(X_test)\n",
        "\n",
        "  # Get result\n",
        "  lr_acc.append(accuracy_score(y_test, y_pred))\n",
        "  lr_auc.append(roc_auc_score(y_test, y_prob[:, 1]))\n",
        "  lr_pc.append(precision_score(y_test, y_pred))\n",
        "  lr_rc.append(recall_score(y_test, y_pred))\n",
        "  lr_score.append(lr_model.score(X_test, y_test))\n",
        "  lr_mae.append(mean_absolute_error(y_test, y_pred))\n",
        "  lr_mse.append(mean_squared_error(y_test, y_pred))\n",
        "\n",
        "lr_table = pd.DataFrame({'Accuracy' : lr_acc,'AUC' : lr_auc,'Precision' : lr_pc, 'Sensitivity' : lr_rc, 'Score' : lr_score, 'Mean Absolute Error' : lr_mae, 'Mean Squared Error' : lr_mse})\n",
        "\n",
        "# Showing the complete Table\n",
        "lr_table.sort_values(by=['Accuracy','AUC'], inplace=True, ascending=False)\n",
        "lr_table.head(5)"
      ],
      "metadata": {
        "colab": {
          "base_uri": "https://localhost:8080/",
          "height": 206
        },
        "id": "7kY6yvYmXpOV",
        "outputId": "090ad6bd-c57c-41d2-db0b-cbc7a419bf19"
      },
      "execution_count": null,
      "outputs": [
        {
          "output_type": "execute_result",
          "data": {
            "text/plain": [
              "    Accuracy       AUC  Precision  Sensitivity     Score  Mean Absolute Error  \\\n",
              "70  0.885358  0.955191   0.871341     0.985273  0.885358             0.114642   \n",
              "19  0.885199  0.953679   0.873961     0.982997  0.885199             0.114801   \n",
              "5   0.884667  0.952024   0.871819     0.983414  0.884667             0.115333   \n",
              "64  0.884134  0.954019   0.869208     0.986057  0.884134             0.115866   \n",
              "66  0.883815  0.953192   0.871283     0.983551  0.883815             0.116185   \n",
              "\n",
              "    Mean Squared Error  \n",
              "70            0.114642  \n",
              "19            0.114801  \n",
              "5             0.115333  \n",
              "64            0.115866  \n",
              "66            0.116185  "
            ],
            "text/html": [
              "\n",
              "  <div id=\"df-7ebcecc3-8baf-4342-ad1f-000d229b5da5\">\n",
              "    <div class=\"colab-df-container\">\n",
              "      <div>\n",
              "<style scoped>\n",
              "    .dataframe tbody tr th:only-of-type {\n",
              "        vertical-align: middle;\n",
              "    }\n",
              "\n",
              "    .dataframe tbody tr th {\n",
              "        vertical-align: top;\n",
              "    }\n",
              "\n",
              "    .dataframe thead th {\n",
              "        text-align: right;\n",
              "    }\n",
              "</style>\n",
              "<table border=\"1\" class=\"dataframe\">\n",
              "  <thead>\n",
              "    <tr style=\"text-align: right;\">\n",
              "      <th></th>\n",
              "      <th>Accuracy</th>\n",
              "      <th>AUC</th>\n",
              "      <th>Precision</th>\n",
              "      <th>Sensitivity</th>\n",
              "      <th>Score</th>\n",
              "      <th>Mean Absolute Error</th>\n",
              "      <th>Mean Squared Error</th>\n",
              "    </tr>\n",
              "  </thead>\n",
              "  <tbody>\n",
              "    <tr>\n",
              "      <th>70</th>\n",
              "      <td>0.885358</td>\n",
              "      <td>0.955191</td>\n",
              "      <td>0.871341</td>\n",
              "      <td>0.985273</td>\n",
              "      <td>0.885358</td>\n",
              "      <td>0.114642</td>\n",
              "      <td>0.114642</td>\n",
              "    </tr>\n",
              "    <tr>\n",
              "      <th>19</th>\n",
              "      <td>0.885199</td>\n",
              "      <td>0.953679</td>\n",
              "      <td>0.873961</td>\n",
              "      <td>0.982997</td>\n",
              "      <td>0.885199</td>\n",
              "      <td>0.114801</td>\n",
              "      <td>0.114801</td>\n",
              "    </tr>\n",
              "    <tr>\n",
              "      <th>5</th>\n",
              "      <td>0.884667</td>\n",
              "      <td>0.952024</td>\n",
              "      <td>0.871819</td>\n",
              "      <td>0.983414</td>\n",
              "      <td>0.884667</td>\n",
              "      <td>0.115333</td>\n",
              "      <td>0.115333</td>\n",
              "    </tr>\n",
              "    <tr>\n",
              "      <th>64</th>\n",
              "      <td>0.884134</td>\n",
              "      <td>0.954019</td>\n",
              "      <td>0.869208</td>\n",
              "      <td>0.986057</td>\n",
              "      <td>0.884134</td>\n",
              "      <td>0.115866</td>\n",
              "      <td>0.115866</td>\n",
              "    </tr>\n",
              "    <tr>\n",
              "      <th>66</th>\n",
              "      <td>0.883815</td>\n",
              "      <td>0.953192</td>\n",
              "      <td>0.871283</td>\n",
              "      <td>0.983551</td>\n",
              "      <td>0.883815</td>\n",
              "      <td>0.116185</td>\n",
              "      <td>0.116185</td>\n",
              "    </tr>\n",
              "  </tbody>\n",
              "</table>\n",
              "</div>\n",
              "      <button class=\"colab-df-convert\" onclick=\"convertToInteractive('df-7ebcecc3-8baf-4342-ad1f-000d229b5da5')\"\n",
              "              title=\"Convert this dataframe to an interactive table.\"\n",
              "              style=\"display:none;\">\n",
              "        \n",
              "  <svg xmlns=\"http://www.w3.org/2000/svg\" height=\"24px\"viewBox=\"0 0 24 24\"\n",
              "       width=\"24px\">\n",
              "    <path d=\"M0 0h24v24H0V0z\" fill=\"none\"/>\n",
              "    <path d=\"M18.56 5.44l.94 2.06.94-2.06 2.06-.94-2.06-.94-.94-2.06-.94 2.06-2.06.94zm-11 1L8.5 8.5l.94-2.06 2.06-.94-2.06-.94L8.5 2.5l-.94 2.06-2.06.94zm10 10l.94 2.06.94-2.06 2.06-.94-2.06-.94-.94-2.06-.94 2.06-2.06.94z\"/><path d=\"M17.41 7.96l-1.37-1.37c-.4-.4-.92-.59-1.43-.59-.52 0-1.04.2-1.43.59L10.3 9.45l-7.72 7.72c-.78.78-.78 2.05 0 2.83L4 21.41c.39.39.9.59 1.41.59.51 0 1.02-.2 1.41-.59l7.78-7.78 2.81-2.81c.8-.78.8-2.07 0-2.86zM5.41 20L4 18.59l7.72-7.72 1.47 1.35L5.41 20z\"/>\n",
              "  </svg>\n",
              "      </button>\n",
              "      \n",
              "  <style>\n",
              "    .colab-df-container {\n",
              "      display:flex;\n",
              "      flex-wrap:wrap;\n",
              "      gap: 12px;\n",
              "    }\n",
              "\n",
              "    .colab-df-convert {\n",
              "      background-color: #E8F0FE;\n",
              "      border: none;\n",
              "      border-radius: 50%;\n",
              "      cursor: pointer;\n",
              "      display: none;\n",
              "      fill: #1967D2;\n",
              "      height: 32px;\n",
              "      padding: 0 0 0 0;\n",
              "      width: 32px;\n",
              "    }\n",
              "\n",
              "    .colab-df-convert:hover {\n",
              "      background-color: #E2EBFA;\n",
              "      box-shadow: 0px 1px 2px rgba(60, 64, 67, 0.3), 0px 1px 3px 1px rgba(60, 64, 67, 0.15);\n",
              "      fill: #174EA6;\n",
              "    }\n",
              "\n",
              "    [theme=dark] .colab-df-convert {\n",
              "      background-color: #3B4455;\n",
              "      fill: #D2E3FC;\n",
              "    }\n",
              "\n",
              "    [theme=dark] .colab-df-convert:hover {\n",
              "      background-color: #434B5C;\n",
              "      box-shadow: 0px 1px 3px 1px rgba(0, 0, 0, 0.15);\n",
              "      filter: drop-shadow(0px 1px 2px rgba(0, 0, 0, 0.3));\n",
              "      fill: #FFFFFF;\n",
              "    }\n",
              "  </style>\n",
              "\n",
              "      <script>\n",
              "        const buttonEl =\n",
              "          document.querySelector('#df-7ebcecc3-8baf-4342-ad1f-000d229b5da5 button.colab-df-convert');\n",
              "        buttonEl.style.display =\n",
              "          google.colab.kernel.accessAllowed ? 'block' : 'none';\n",
              "\n",
              "        async function convertToInteractive(key) {\n",
              "          const element = document.querySelector('#df-7ebcecc3-8baf-4342-ad1f-000d229b5da5');\n",
              "          const dataTable =\n",
              "            await google.colab.kernel.invokeFunction('convertToInteractive',\n",
              "                                                     [key], {});\n",
              "          if (!dataTable) return;\n",
              "\n",
              "          const docLinkHtml = 'Like what you see? Visit the ' +\n",
              "            '<a target=\"_blank\" href=https://colab.research.google.com/notebooks/data_table.ipynb>data table notebook</a>'\n",
              "            + ' to learn more about interactive tables.';\n",
              "          element.innerHTML = '';\n",
              "          dataTable['output_type'] = 'display_data';\n",
              "          await google.colab.output.renderOutput(dataTable, element);\n",
              "          const docLink = document.createElement('div');\n",
              "          docLink.innerHTML = docLinkHtml;\n",
              "          element.appendChild(docLink);\n",
              "        }\n",
              "      </script>\n",
              "    </div>\n",
              "  </div>\n",
              "  "
            ]
          },
          "metadata": {},
          "execution_count": 8
        }
      ]
    },
    {
      "cell_type": "markdown",
      "source": [
        "##**Report**"
      ],
      "metadata": {
        "id": "nPvEF5a_IoZA"
      }
    },
    {
      "cell_type": "code",
      "source": [
        "from sklearn.metrics import classification_report\n",
        "\n",
        "# Get report\n",
        "print(classification_report(y_test, y_pred))"
      ],
      "metadata": {
        "colab": {
          "base_uri": "https://localhost:8080/"
        },
        "outputId": "4b52f01d-c770-4a9c-98bb-d8aebf4f0d1d",
        "id": "SqblIQeZIoZB"
      },
      "execution_count": null,
      "outputs": [
        {
          "output_type": "stream",
          "name": "stdout",
          "text": [
            "              precision    recall  f1-score   support\n",
            "\n",
            "           0       0.94      0.62      0.75      5368\n",
            "           1       0.87      0.98      0.92     13421\n",
            "\n",
            "    accuracy                           0.88     18789\n",
            "   macro avg       0.90      0.80      0.83     18789\n",
            "weighted avg       0.89      0.88      0.87     18789\n",
            "\n"
          ]
        }
      ]
    },
    {
      "cell_type": "markdown",
      "source": [
        "##**Confusion Matrix**"
      ],
      "metadata": {
        "id": "qaW-qTVoIoZC"
      }
    },
    {
      "cell_type": "code",
      "source": [
        "import matplotlib.pyplot as plt\n",
        "from sklearn import metrics\n",
        "\n",
        "# Creating a Confusion Matrix\n",
        "cm = metrics.confusion_matrix(y_test, y_pred)\n",
        "\n",
        "# Ploting the Matrix\n",
        "cm_display = metrics.ConfusionMatrixDisplay(confusion_matrix = cm, display_labels = [False, True])\n",
        "cm_display.plot()\n",
        "plt.show()\n",
        "\n",
        "# Printing out the percentages\n",
        "print(\"\\nTrue Negatives : {:0.2f}%\".format(cm[0][0]*100/sum(cm[0]+cm[1])))\n",
        "print(\"False Positives : {:0.2f}%\".format(cm[0][1]*100/sum(cm[0]+cm[1])))\n",
        "print(\"False Negatives : {:0.2f}%\".format(cm[1][0]*100/sum(cm[0]+cm[1])))\n",
        "print(\"True Positives : {:0.2f}%\".format(cm[1][1]*100/sum(cm[0]+cm[1])))"
      ],
      "metadata": {
        "colab": {
          "base_uri": "https://localhost:8080/",
          "height": 366
        },
        "outputId": "5cde2836-f210-4993-be5d-45d7cb20218b",
        "id": "WTTio72dIoZC"
      },
      "execution_count": null,
      "outputs": [
        {
          "output_type": "display_data",
          "data": {
            "text/plain": [
              "<Figure size 432x288 with 2 Axes>"
            ],
            "image/png": "[encoded data removed]"
          },
          "metadata": {
            "needs_background": "light"
          }
        },
        {
          "output_type": "stream",
          "name": "stdout",
          "text": [
            "\n",
            "True Negatives : 17.73%\n",
            "False Positives : 10.84%\n",
            "False Negatives : 1.15%\n",
            "True Positives : 70.28%\n"
          ]
        }
      ]
    },
    {
      "cell_type": "markdown",
      "source": [
        "##**ROC Curve**"
      ],
      "metadata": {
        "id": "P5GK8aT-IoZE"
      }
    },
    {
      "cell_type": "code",
      "source": [
        "from sklearn.metrics import roc_curve\n",
        "\n",
        "# Ploting the ROC curve\n",
        "fpr, tpr, thresholds = roc_curve(y_test, y_prob[:,1])\n",
        "\n",
        "plt.plot(fpr, tpr, label=\"AUC=\"+str(roc_auc_score(y_test, y_prob[:, 1])))\n",
        "plt.plot([0, 1], [0, 1],'r--')\n",
        "\n",
        "plt.xlim([0.0, 1.0])\n",
        "plt.ylim([0.0, 1.05])\n",
        "\n",
        "plt.xlabel('False Positive Rate')\n",
        "plt.ylabel('True Positive Rate')\n",
        "plt.title('Receiver operating characteristic')\n",
        "plt.legend(loc=4)\n",
        "\n",
        "plt.show()"
      ],
      "metadata": {
        "colab": {
          "base_uri": "https://localhost:8080/",
          "height": 295
        },
        "outputId": "890a1e72-494b-4cee-8ef3-61b6221c44bd",
        "id": "rdwJmX5dIoZE"
      },
      "execution_count": null,
      "outputs": [
        {
          "output_type": "display_data",
          "data": {
            "text/plain": [
              "<Figure size 432x288 with 1 Axes>"
            ],
            "image/png": "[encoded data removed]"
          },
          "metadata": {
            "needs_background": "light"
          }
        }
      ]
    },
    {
      "cell_type": "markdown",
      "source": [
        "##**MLPClassifier**"
      ],
      "metadata": {
        "id": "P0hqrwwJdBWJ"
      }
    },
    {
      "cell_type": "code",
      "source": [
        "import matplotlib.pyplot as plt\n",
        "from sklearn.model_selection import train_test_split\n",
        "from sklearn.neural_network import MLPClassifier\n",
        "from sklearn.metrics import accuracy_score, roc_auc_score, precision_score, recall_score\n",
        "\n",
        "mlp_acc = []\n",
        "mlp_auc = []\n",
        "mlp_pc = []\n",
        "mlp_rc = []\n",
        "mlp_score = []\n",
        "mlp_mae = []\n",
        "mlp_mse = [] \n",
        "\n",
        "\n",
        "# Calculating 5 random train-test split for MLP Classifier\n",
        "for i in range(5):\n",
        "\n",
        "  # Split data into a trainiing and testing set where test size is 30 %\n",
        "  df_train, df_test = train_test_split(smoke_process, test_size=0.3)\n",
        "\n",
        "  # Setting the \"Fire Alarm\" column series as target\n",
        "  y_train = df_train[\"Fire Alarm\"].to_numpy()\n",
        "  y_test = df_test[\"Fire Alarm\"].to_numpy()\n",
        "\n",
        "  # Setting differents columns series as Features\n",
        "  X_train = df_train.iloc[:,0:12].to_numpy()\n",
        "  X_test = df_test.iloc[:,0:12].to_numpy()\n",
        "\n",
        "  # Create Logistic Regression model and fit to training data\n",
        "  MLP_model = MLPClassifier(random_state = 1, hidden_layer_sizes = (20,), batch_size = 20, max_iter = 100).fit(X_train, y_train)\n",
        "  \n",
        "  # Predict y_preb and y_prob using the fitted model above\n",
        "  mlp_y_pred = MLP_model.predict(X_test)\n",
        "  mlp_y_prob = MLP_model.predict_proba(X_test)\n",
        "\n",
        "  # Get result\n",
        "  mlp_acc.append(accuracy_score(y_test, mlp_y_pred))\n",
        "  mlp_auc.append(roc_auc_score(y_test, mlp_y_prob[:, 1]))\n",
        "  mlp_pc.append(precision_score(y_test, mlp_y_pred))\n",
        "  mlp_rc.append(recall_score(y_test, mlp_y_pred))\n",
        "  mlp_score.append(MLP_model.score(X_test, y_test))\n",
        "  mlp_mae.append(mean_absolute_error(y_test, y_pred))\n",
        "  mlp_mse.append(mean_squared_error(y_test, y_pred))   \n",
        "mlp_table = pd.DataFrame({'Accuracy' : mlp_acc,'AUC' : mlp_auc,'Precision' : mlp_pc, 'Sensitivity' : mlp_rc, 'Score' : mlp_score, 'Mean Absolute Error' : mlp_mae, 'Mean Squared Error' : mlp_mse})\n",
        "\n",
        "# Showing the complete Table\n",
        "mlp_table.sort_values(by=['Accuracy','AUC'], inplace=True, ascending=False)\n",
        "mlp_table.head(5)"
      ],
      "metadata": {
        "colab": {
          "base_uri": "https://localhost:8080/",
          "height": 206
        },
        "id": "_-zTpLFSaepg",
        "outputId": "dad354c7-3ae7-449e-cbec-93d4e10f7a8d"
      },
      "execution_count": null,
      "outputs": [
        {
          "output_type": "execute_result",
          "data": {
            "text/plain": [
              "   Accuracy       AUC  Precision  Sensitivity     Score  Mean Absolute Error  \\\n",
              "0  0.983820  0.996169   0.985080     0.992521  0.983820             0.361648   \n",
              "1  0.966789  0.996078   0.995496     0.957714  0.966789             0.364362   \n",
              "3  0.948534  0.997602   0.998880     0.929071  0.948534             0.364841   \n",
              "2  0.918782  0.988732   0.899137     0.998588  0.918782             0.367236   \n",
              "4  0.899250  0.976877   0.878877     0.997185  0.899250             0.358135   \n",
              "\n",
              "   Mean Squared Error  \n",
              "0            0.361648  \n",
              "1            0.364362  \n",
              "3            0.364841  \n",
              "2            0.367236  \n",
              "4            0.358135  "
            ],
            "text/html": [
              "\n",
              "  <div id=\"df-3524eb80-b53d-40da-8630-d4f280ba98ff\">\n",
              "    <div class=\"colab-df-container\">\n",
              "      <div>\n",
              "<style scoped>\n",
              "    .dataframe tbody tr th:only-of-type {\n",
              "        vertical-align: middle;\n",
              "    }\n",
              "\n",
              "    .dataframe tbody tr th {\n",
              "        vertical-align: top;\n",
              "    }\n",
              "\n",
              "    .dataframe thead th {\n",
              "        text-align: right;\n",
              "    }\n",
              "</style>\n",
              "<table border=\"1\" class=\"dataframe\">\n",
              "  <thead>\n",
              "    <tr style=\"text-align: right;\">\n",
              "      <th></th>\n",
              "      <th>Accuracy</th>\n",
              "      <th>AUC</th>\n",
              "      <th>Precision</th>\n",
              "      <th>Sensitivity</th>\n",
              "      <th>Score</th>\n",
              "      <th>Mean Absolute Error</th>\n",
              "      <th>Mean Squared Error</th>\n",
              "    </tr>\n",
              "  </thead>\n",
              "  <tbody>\n",
              "    <tr>\n",
              "      <th>0</th>\n",
              "      <td>0.983820</td>\n",
              "      <td>0.996169</td>\n",
              "      <td>0.985080</td>\n",
              "      <td>0.992521</td>\n",
              "      <td>0.983820</td>\n",
              "      <td>0.361648</td>\n",
              "      <td>0.361648</td>\n",
              "    </tr>\n",
              "    <tr>\n",
              "      <th>1</th>\n",
              "      <td>0.966789</td>\n",
              "      <td>0.996078</td>\n",
              "      <td>0.995496</td>\n",
              "      <td>0.957714</td>\n",
              "      <td>0.966789</td>\n",
              "      <td>0.364362</td>\n",
              "      <td>0.364362</td>\n",
              "    </tr>\n",
              "    <tr>\n",
              "      <th>3</th>\n",
              "      <td>0.948534</td>\n",
              "      <td>0.997602</td>\n",
              "      <td>0.998880</td>\n",
              "      <td>0.929071</td>\n",
              "      <td>0.948534</td>\n",
              "      <td>0.364841</td>\n",
              "      <td>0.364841</td>\n",
              "    </tr>\n",
              "    <tr>\n",
              "      <th>2</th>\n",
              "      <td>0.918782</td>\n",
              "      <td>0.988732</td>\n",
              "      <td>0.899137</td>\n",
              "      <td>0.998588</td>\n",
              "      <td>0.918782</td>\n",
              "      <td>0.367236</td>\n",
              "      <td>0.367236</td>\n",
              "    </tr>\n",
              "    <tr>\n",
              "      <th>4</th>\n",
              "      <td>0.899250</td>\n",
              "      <td>0.976877</td>\n",
              "      <td>0.878877</td>\n",
              "      <td>0.997185</td>\n",
              "      <td>0.899250</td>\n",
              "      <td>0.358135</td>\n",
              "      <td>0.358135</td>\n",
              "    </tr>\n",
              "  </tbody>\n",
              "</table>\n",
              "</div>\n",
              "      <button class=\"colab-df-convert\" onclick=\"convertToInteractive('df-3524eb80-b53d-40da-8630-d4f280ba98ff')\"\n",
              "              title=\"Convert this dataframe to an interactive table.\"\n",
              "              style=\"display:none;\">\n",
              "        \n",
              "  <svg xmlns=\"http://www.w3.org/2000/svg\" height=\"24px\"viewBox=\"0 0 24 24\"\n",
              "       width=\"24px\">\n",
              "    <path d=\"M0 0h24v24H0V0z\" fill=\"none\"/>\n",
              "    <path d=\"M18.56 5.44l.94 2.06.94-2.06 2.06-.94-2.06-.94-.94-2.06-.94 2.06-2.06.94zm-11 1L8.5 8.5l.94-2.06 2.06-.94-2.06-.94L8.5 2.5l-.94 2.06-2.06.94zm10 10l.94 2.06.94-2.06 2.06-.94-2.06-.94-.94-2.06-.94 2.06-2.06.94z\"/><path d=\"M17.41 7.96l-1.37-1.37c-.4-.4-.92-.59-1.43-.59-.52 0-1.04.2-1.43.59L10.3 9.45l-7.72 7.72c-.78.78-.78 2.05 0 2.83L4 21.41c.39.39.9.59 1.41.59.51 0 1.02-.2 1.41-.59l7.78-7.78 2.81-2.81c.8-.78.8-2.07 0-2.86zM5.41 20L4 18.59l7.72-7.72 1.47 1.35L5.41 20z\"/>\n",
              "  </svg>\n",
              "      </button>\n",
              "      \n",
              "  <style>\n",
              "    .colab-df-container {\n",
              "      display:flex;\n",
              "      flex-wrap:wrap;\n",
              "      gap: 12px;\n",
              "    }\n",
              "\n",
              "    .colab-df-convert {\n",
              "      background-color: #E8F0FE;\n",
              "      border: none;\n",
              "      border-radius: 50%;\n",
              "      cursor: pointer;\n",
              "      display: none;\n",
              "      fill: #1967D2;\n",
              "      height: 32px;\n",
              "      padding: 0 0 0 0;\n",
              "      width: 32px;\n",
              "    }\n",
              "\n",
              "    .colab-df-convert:hover {\n",
              "      background-color: #E2EBFA;\n",
              "      box-shadow: 0px 1px 2px rgba(60, 64, 67, 0.3), 0px 1px 3px 1px rgba(60, 64, 67, 0.15);\n",
              "      fill: #174EA6;\n",
              "    }\n",
              "\n",
              "    [theme=dark] .colab-df-convert {\n",
              "      background-color: #3B4455;\n",
              "      fill: #D2E3FC;\n",
              "    }\n",
              "\n",
              "    [theme=dark] .colab-df-convert:hover {\n",
              "      background-color: #434B5C;\n",
              "      box-shadow: 0px 1px 3px 1px rgba(0, 0, 0, 0.15);\n",
              "      filter: drop-shadow(0px 1px 2px rgba(0, 0, 0, 0.3));\n",
              "      fill: #FFFFFF;\n",
              "    }\n",
              "  </style>\n",
              "\n",
              "      <script>\n",
              "        const buttonEl =\n",
              "          document.querySelector('#df-3524eb80-b53d-40da-8630-d4f280ba98ff button.colab-df-convert');\n",
              "        buttonEl.style.display =\n",
              "          google.colab.kernel.accessAllowed ? 'block' : 'none';\n",
              "\n",
              "        async function convertToInteractive(key) {\n",
              "          const element = document.querySelector('#df-3524eb80-b53d-40da-8630-d4f280ba98ff');\n",
              "          const dataTable =\n",
              "            await google.colab.kernel.invokeFunction('convertToInteractive',\n",
              "                                                     [key], {});\n",
              "          if (!dataTable) return;\n",
              "\n",
              "          const docLinkHtml = 'Like what you see? Visit the ' +\n",
              "            '<a target=\"_blank\" href=https://colab.research.google.com/notebooks/data_table.ipynb>data table notebook</a>'\n",
              "            + ' to learn more about interactive tables.';\n",
              "          element.innerHTML = '';\n",
              "          dataTable['output_type'] = 'display_data';\n",
              "          await google.colab.output.renderOutput(dataTable, element);\n",
              "          const docLink = document.createElement('div');\n",
              "          docLink.innerHTML = docLinkHtml;\n",
              "          element.appendChild(docLink);\n",
              "        }\n",
              "      </script>\n",
              "    </div>\n",
              "  </div>\n",
              "  "
            ]
          },
          "metadata": {},
          "execution_count": 13
        }
      ]
    },
    {
      "cell_type": "markdown",
      "source": [
        "##**Report**"
      ],
      "metadata": {
        "id": "AodWTYyTdIH3"
      }
    },
    {
      "cell_type": "code",
      "source": [
        "from sklearn.metrics import classification_report\n",
        "\n",
        "# Get report\n",
        "print(classification_report(y_test, mlp_y_pred))"
      ],
      "metadata": {
        "colab": {
          "base_uri": "https://localhost:8080/"
        },
        "id": "fZTvOBwJcg3i",
        "outputId": "0e97cdf3-0772-4ade-e93f-7464ff559007"
      },
      "execution_count": null,
      "outputs": [
        {
          "output_type": "stream",
          "name": "stdout",
          "text": [
            "              precision    recall  f1-score   support\n",
            "\n",
            "           0       0.99      0.65      0.78      5291\n",
            "           1       0.88      1.00      0.93     13498\n",
            "\n",
            "    accuracy                           0.90     18789\n",
            "   macro avg       0.93      0.82      0.86     18789\n",
            "weighted avg       0.91      0.90      0.89     18789\n",
            "\n"
          ]
        }
      ]
    },
    {
      "cell_type": "markdown",
      "source": [
        "##**Confusion Matrix**"
      ],
      "metadata": {
        "id": "TvMVKRPzdLXt"
      }
    },
    {
      "cell_type": "code",
      "source": [
        "import matplotlib.pyplot as plt\n",
        "from sklearn import metrics\n",
        "\n",
        "# Creating a Confusion Matrix\n",
        "cm = metrics.confusion_matrix(y_test, y_pred)\n",
        "\n",
        "# Ploting the Matrix\n",
        "cm_display = metrics.ConfusionMatrixDisplay(confusion_matrix = cm, display_labels = [False, True])\n",
        "cm_display.plot()\n",
        "plt.show()\n",
        "\n",
        "# Printing out the percentages\n",
        "print(\"\\nTrue Negatives : {:0.2f}%\".format(cm[0][0]*100/sum(cm[0]+cm[1])))\n",
        "print(\"False Positives : {:0.2f}%\".format(cm[0][1]*100/sum(cm[0]+cm[1])))\n",
        "print(\"False Negatives : {:0.2f}%\".format(cm[1][0]*100/sum(cm[0]+cm[1])))\n",
        "print(\"True Positives : {:0.2f}%\".format(cm[1][1]*100/sum(cm[0]+cm[1])))"
      ],
      "metadata": {
        "colab": {
          "base_uri": "https://localhost:8080/",
          "height": 366
        },
        "id": "339cJbYxcpvD",
        "outputId": "26ecf1c6-c493-4df5-bae6-e8e4f77dc8bf"
      },
      "execution_count": null,
      "outputs": [
        {
          "output_type": "display_data",
          "data": {
            "text/plain": [
              "<Figure size 432x288 with 2 Axes>"
            ],
            "image/png": "[encoded data removed]"
          },
          "metadata": {
            "needs_background": "light"
          }
        },
        {
          "output_type": "stream",
          "name": "stdout",
          "text": [
            "\n",
            "True Negatives : 5.61%\n",
            "False Positives : 22.55%\n",
            "False Negatives : 13.27%\n",
            "True Positives : 58.57%\n"
          ]
        }
      ]
    },
    {
      "cell_type": "markdown",
      "source": [
        "##**ROC Curve**"
      ],
      "metadata": {
        "id": "pYBdiLuhdOHf"
      }
    },
    {
      "cell_type": "code",
      "source": [
        "from sklearn.metrics import roc_curve\n",
        "\n",
        "# Ploting the ROC curve\n",
        "fpr, tpr, thresholds = roc_curve(y_test, mlp_y_prob[:,1])\n",
        "\n",
        "plt.plot(fpr, tpr, label=\"AUC=\"+str(roc_auc_score(y_test, mlp_y_prob[:, 1])))\n",
        "plt.plot([0, 1], [0, 1],'r--')\n",
        "\n",
        "plt.xlim([0.0, 1.0])\n",
        "plt.ylim([0.0, 1.05])\n",
        "\n",
        "plt.xlabel('False Positive Rate')\n",
        "plt.ylabel('True Positive Rate')\n",
        "plt.title('Receiver operating characteristic')\n",
        "plt.legend(loc=4)\n",
        "\n",
        "plt.show()"
      ],
      "metadata": {
        "colab": {
          "base_uri": "https://localhost:8080/",
          "height": 295
        },
        "id": "92YwNdX3csF3",
        "outputId": "f4af87b1-8fe3-46e1-b928-9cf99b7a341f"
      },
      "execution_count": null,
      "outputs": [
        {
          "output_type": "display_data",
          "data": {
            "text/plain": [
              "<Figure size 432x288 with 1 Axes>"
            ],
            "image/png": "[encoded data removed]"
          },
          "metadata": {
            "needs_background": "light"
          }
        }
      ]
    },
    {
      "cell_type": "markdown",
      "source": [
        "#**Gaussian Naive Bayes**"
      ],
      "metadata": {
        "id": "C_eoODiXJNJu"
      }
    },
    {
      "cell_type": "code",
      "source": [
        "from sklearn.naive_bayes import GaussianNB\n",
        "from sklearn.datasets import load_iris\n",
        "from sklearn.model_selection import train_test_split\n",
        "from sklearn.metrics import accuracy_score, roc_auc_score, precision_score, recall_score, mean_absolute_error, mean_squared_error\n",
        "import matplotlib.pyplot as plt\n",
        "\n",
        "mnb_acc_list, mnb_auc_list, mnb_pc, mnb_rc, mnb_score, mnb_mae, mnb_mse=[],[],[],[],[],[],[]\n",
        "\n",
        "for i in range(1,11) :\n",
        "\n",
        "  # Split dataset into training and testing sets with test size: 25%\n",
        "  df_train, df_test = train_test_split(smoke_process, test_size=0.25)\n",
        "\n",
        "  # Separate training data into inputs and true output\n",
        "  X_train = df_train.iloc[:,0:12].to_numpy()\n",
        "  X_test = df_test.iloc[:,0:12].to_numpy()\n",
        "  y_train = df_train[\"Fire Alarm\"].to_numpy()\n",
        "  y_test = df_test[\"Fire Alarm\"].to_numpy()\n",
        "\n",
        "  # Fitting the classifier into the training data\n",
        "  gnb = GaussianNB()\n",
        "  gnb.fit(X_train, y_train)\n",
        "\n",
        "  # Predicting the label of the testing data\n",
        "  gnb_y_pred = gnb.fit(X_train, y_train).predict(X_test)\n",
        "      \n",
        "  # Generating the scores\n",
        "  # gnb_acc = accuracy_score(y_test, gnb_y_pred)\n",
        "  # gnb_auc = roc_auc_score(y_test, gnb_y_pred)\n",
        "  mae_mnb = round(mean_absolute_error(y_test, gnb_y_pred), 4)\n",
        "  # print(gnb_acc, gnb_auc)\n",
        "  mnb_acc_list.append(accuracy_score(y_test, gnb_y_pred))\n",
        "  mnb_auc_list.append(roc_auc_score(y_test, gnb_y_pred))\n",
        "  mnb_mae.append(mae_mnb)\n",
        "\n",
        "mnb_table = pd.DataFrame({'Accuracy' : mnb_acc_list,'AUC' : mnb_auc_list,'Mean Absolute Error' : mnb_mae})\n",
        "\n",
        "# Showing the complete Table sorted by accuracy\n",
        "mnb_table.sort_values(by=['Accuracy','AUC'], inplace=True, ascending=False)\n",
        "mnb_table.head()\n"
      ],
      "metadata": {
        "id": "0gePjFlFUJ0T",
        "colab": {
          "base_uri": "https://localhost:8080/",
          "height": 206
        },
        "outputId": "73237f38-2a69-4104-e697-9950cf893060"
      },
      "execution_count": null,
      "outputs": [
        {
          "output_type": "execute_result",
          "data": {
            "text/plain": [
              "   Accuracy       AUC  Mean Absolute Error\n",
              "9  0.771427  0.610021               0.2286\n",
              "8  0.770597  0.610092               0.2294\n",
              "6  0.767723  0.608605               0.2323\n",
              "5  0.767403  0.608856               0.2326\n",
              "4  0.765807  0.605217               0.2342"
            ],
            "text/html": [
              "\n",
              "  <div id=\"df-053a8044-5644-4dd0-84d2-2169679f1c5b\">\n",
              "    <div class=\"colab-df-container\">\n",
              "      <div>\n",
              "<style scoped>\n",
              "    .dataframe tbody tr th:only-of-type {\n",
              "        vertical-align: middle;\n",
              "    }\n",
              "\n",
              "    .dataframe tbody tr th {\n",
              "        vertical-align: top;\n",
              "    }\n",
              "\n",
              "    .dataframe thead th {\n",
              "        text-align: right;\n",
              "    }\n",
              "</style>\n",
              "<table border=\"1\" class=\"dataframe\">\n",
              "  <thead>\n",
              "    <tr style=\"text-align: right;\">\n",
              "      <th></th>\n",
              "      <th>Accuracy</th>\n",
              "      <th>AUC</th>\n",
              "      <th>Mean Absolute Error</th>\n",
              "    </tr>\n",
              "  </thead>\n",
              "  <tbody>\n",
              "    <tr>\n",
              "      <th>9</th>\n",
              "      <td>0.771427</td>\n",
              "      <td>0.610021</td>\n",
              "      <td>0.2286</td>\n",
              "    </tr>\n",
              "    <tr>\n",
              "      <th>8</th>\n",
              "      <td>0.770597</td>\n",
              "      <td>0.610092</td>\n",
              "      <td>0.2294</td>\n",
              "    </tr>\n",
              "    <tr>\n",
              "      <th>6</th>\n",
              "      <td>0.767723</td>\n",
              "      <td>0.608605</td>\n",
              "      <td>0.2323</td>\n",
              "    </tr>\n",
              "    <tr>\n",
              "      <th>5</th>\n",
              "      <td>0.767403</td>\n",
              "      <td>0.608856</td>\n",
              "      <td>0.2326</td>\n",
              "    </tr>\n",
              "    <tr>\n",
              "      <th>4</th>\n",
              "      <td>0.765807</td>\n",
              "      <td>0.605217</td>\n",
              "      <td>0.2342</td>\n",
              "    </tr>\n",
              "  </tbody>\n",
              "</table>\n",
              "</div>\n",
              "      <button class=\"colab-df-convert\" onclick=\"convertToInteractive('df-053a8044-5644-4dd0-84d2-2169679f1c5b')\"\n",
              "              title=\"Convert this dataframe to an interactive table.\"\n",
              "              style=\"display:none;\">\n",
              "        \n",
              "  <svg xmlns=\"http://www.w3.org/2000/svg\" height=\"24px\"viewBox=\"0 0 24 24\"\n",
              "       width=\"24px\">\n",
              "    <path d=\"M0 0h24v24H0V0z\" fill=\"none\"/>\n",
              "    <path d=\"M18.56 5.44l.94 2.06.94-2.06 2.06-.94-2.06-.94-.94-2.06-.94 2.06-2.06.94zm-11 1L8.5 8.5l.94-2.06 2.06-.94-2.06-.94L8.5 2.5l-.94 2.06-2.06.94zm10 10l.94 2.06.94-2.06 2.06-.94-2.06-.94-.94-2.06-.94 2.06-2.06.94z\"/><path d=\"M17.41 7.96l-1.37-1.37c-.4-.4-.92-.59-1.43-.59-.52 0-1.04.2-1.43.59L10.3 9.45l-7.72 7.72c-.78.78-.78 2.05 0 2.83L4 21.41c.39.39.9.59 1.41.59.51 0 1.02-.2 1.41-.59l7.78-7.78 2.81-2.81c.8-.78.8-2.07 0-2.86zM5.41 20L4 18.59l7.72-7.72 1.47 1.35L5.41 20z\"/>\n",
              "  </svg>\n",
              "      </button>\n",
              "      \n",
              "  <style>\n",
              "    .colab-df-container {\n",
              "      display:flex;\n",
              "      flex-wrap:wrap;\n",
              "      gap: 12px;\n",
              "    }\n",
              "\n",
              "    .colab-df-convert {\n",
              "      background-color: #E8F0FE;\n",
              "      border: none;\n",
              "      border-radius: 50%;\n",
              "      cursor: pointer;\n",
              "      display: none;\n",
              "      fill: #1967D2;\n",
              "      height: 32px;\n",
              "      padding: 0 0 0 0;\n",
              "      width: 32px;\n",
              "    }\n",
              "\n",
              "    .colab-df-convert:hover {\n",
              "      background-color: #E2EBFA;\n",
              "      box-shadow: 0px 1px 2px rgba(60, 64, 67, 0.3), 0px 1px 3px 1px rgba(60, 64, 67, 0.15);\n",
              "      fill: #174EA6;\n",
              "    }\n",
              "\n",
              "    [theme=dark] .colab-df-convert {\n",
              "      background-color: #3B4455;\n",
              "      fill: #D2E3FC;\n",
              "    }\n",
              "\n",
              "    [theme=dark] .colab-df-convert:hover {\n",
              "      background-color: #434B5C;\n",
              "      box-shadow: 0px 1px 3px 1px rgba(0, 0, 0, 0.15);\n",
              "      filter: drop-shadow(0px 1px 2px rgba(0, 0, 0, 0.3));\n",
              "      fill: #FFFFFF;\n",
              "    }\n",
              "  </style>\n",
              "\n",
              "      <script>\n",
              "        const buttonEl =\n",
              "          document.querySelector('#df-053a8044-5644-4dd0-84d2-2169679f1c5b button.colab-df-convert');\n",
              "        buttonEl.style.display =\n",
              "          google.colab.kernel.accessAllowed ? 'block' : 'none';\n",
              "\n",
              "        async function convertToInteractive(key) {\n",
              "          const element = document.querySelector('#df-053a8044-5644-4dd0-84d2-2169679f1c5b');\n",
              "          const dataTable =\n",
              "            await google.colab.kernel.invokeFunction('convertToInteractive',\n",
              "                                                     [key], {});\n",
              "          if (!dataTable) return;\n",
              "\n",
              "          const docLinkHtml = 'Like what you see? Visit the ' +\n",
              "            '<a target=\"_blank\" href=https://colab.research.google.com/notebooks/data_table.ipynb>data table notebook</a>'\n",
              "            + ' to learn more about interactive tables.';\n",
              "          element.innerHTML = '';\n",
              "          dataTable['output_type'] = 'display_data';\n",
              "          await google.colab.output.renderOutput(dataTable, element);\n",
              "          const docLink = document.createElement('div');\n",
              "          docLink.innerHTML = docLinkHtml;\n",
              "          element.appendChild(docLink);\n",
              "        }\n",
              "      </script>\n",
              "    </div>\n",
              "  </div>\n",
              "  "
            ]
          },
          "metadata": {},
          "execution_count": 9
        }
      ]
    },
    {
      "cell_type": "code",
      "source": [
        "import matplotlib.pyplot as plt\n",
        "from sklearn import metrics \n",
        "\n",
        "# Draw confusion matrix\n",
        "gnb_cm = metrics.confusion_matrix(y_test, gnb_y_pred)\n",
        "gnb_cm_display = metrics.ConfusionMatrixDisplay(confusion_matrix = gnb_cm, display_labels = [False, True])\n",
        "gnb_cm_display.plot()\n",
        "plt.show()\n",
        "\n",
        "print(\"\\nTrue Negatives : {:0.2f}%\".format(gnb_cm[0][0]*100/sum(gnb_cm[0]+gnb_cm[1])))\n",
        "print(\"False Positives : {:0.2f}%\".format(gnb_cm[0][1]*100/sum(gnb_cm[0]+gnb_cm[1])))\n",
        "print(\"False Negatives : {:0.2f}%\".format(gnb_cm[1][0]*100/sum(gnb_cm[0]+gnb_cm[1])))\n",
        "print(\"True Positives : {:0.2f}%\".format(gnb_cm[1][1]*100/sum(gnb_cm[0]+gnb_cm[1])))\n"
      ],
      "metadata": {
        "colab": {
          "base_uri": "https://localhost:8080/",
          "height": 366
        },
        "id": "EUIUvhXNW21d",
        "outputId": "47478ee7-e429-4873-aa6e-22fd98932397"
      },
      "execution_count": null,
      "outputs": [
        {
          "output_type": "display_data",
          "data": {
            "text/plain": [
              "<Figure size 432x288 with 2 Axes>"
            ],
            "image/png": "[encoded data removed]"
          },
          "metadata": {
            "needs_background": "light"
          }
        },
        {
          "output_type": "stream",
          "name": "stdout",
          "text": [
            "\n",
            "True Negatives : 6.47%\n",
            "False Positives : 21.57%\n",
            "False Negatives : 1.54%\n",
            "True Positives : 70.42%\n"
          ]
        }
      ]
    },
    {
      "cell_type": "code",
      "source": [
        "from sklearn.metrics import roc_curve\n",
        "\n",
        "# Draw ROC curve\n",
        "y_prob = gnb.predict_proba(X_test)\n",
        "fpr, tpr, thresholds = roc_curve(y_test, y_prob[:,1])\n",
        "\n",
        "plt.plot(fpr, tpr, label=\"AUC=\"+str(roc_auc_score(y_test, y_prob[:, 1])))\n",
        "plt.plot([0, 1], [0, 1],'r--')\n",
        "\n",
        "plt.xlim([0.0, 1.0])\n",
        "plt.ylim([0.0, 1.05])\n",
        "\n",
        "plt.xlabel('False Positive Rate')\n",
        "plt.ylabel('True Positive Rate')\n",
        "plt.title('Receiver operating characteristic')\n",
        "plt.legend(loc=4)\n",
        "\n",
        "plt.show()"
      ],
      "metadata": {
        "colab": {
          "base_uri": "https://localhost:8080/",
          "height": 295
        },
        "id": "WEP_NyiaYQsh",
        "outputId": "a2e59403-bfec-4b1e-bf6f-cb2db2274781"
      },
      "execution_count": null,
      "outputs": [
        {
          "output_type": "display_data",
          "data": {
            "text/plain": [
              "<Figure size 432x288 with 1 Axes>"
            ],
            "image/png": "[encoded data removed]"
          },
          "metadata": {
            "needs_background": "light"
          }
        }
      ]
    },
    {
      "cell_type": "code",
      "source": [
        "from sklearn.metrics import classification_report\n",
        "\n",
        "#Print report\n",
        "print(classification_report(y_test, y_pred))"
      ],
      "metadata": {
        "colab": {
          "base_uri": "https://localhost:8080/"
        },
        "id": "2K8_XkW9Zhw-",
        "outputId": "310e0b5e-615c-49cc-eee4-8895f799fee3"
      },
      "execution_count": null,
      "outputs": [
        {
          "output_type": "stream",
          "name": "stdout",
          "text": [
            "              precision    recall  f1-score   support\n",
            "\n",
            "           0       0.80      0.24      0.37      4501\n",
            "           1       0.76      0.98      0.85     11157\n",
            "\n",
            "    accuracy                           0.76     15658\n",
            "   macro avg       0.78      0.61      0.61     15658\n",
            "weighted avg       0.77      0.76      0.71     15658\n",
            "\n"
          ]
        }
      ]
    }
  ]
}